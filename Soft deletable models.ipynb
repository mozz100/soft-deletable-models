{
 "cells": [
  {
   "cell_type": "markdown",
   "metadata": {},
   "source": [
    "Let's create a `Group` (this model is a plain Django model) and some `Musician` instances:"
   ]
  },
  {
   "cell_type": "code",
   "execution_count": 1,
   "metadata": {},
   "outputs": [],
   "source": [
    "beatles, created = Group.objects.get_or_create(name=\"The Beatles\")\n",
    "for name in (\n",
    "    \"John Lennon\",\n",
    "    \"Paul McCartney\",\n",
    "    \"Ringo Starr\",\n",
    "    \"George Harrison\"\n",
    "    ):\n",
    "    beatles.members.get_or_create(name=name)"
   ]
  },
  {
   "cell_type": "markdown",
   "metadata": {},
   "source": [
    "Try some simple things with the models.  How many members in The Beatles?  We can ask a few different ways."
   ]
  },
  {
   "cell_type": "code",
   "execution_count": 2,
   "metadata": {},
   "outputs": [],
   "source": [
    "assert beatles.members.count() == 4\n",
    "assert beatles.members.all().count() == 4"
   ]
  },
  {
   "cell_type": "markdown",
   "metadata": {},
   "source": [
    "If we delete a musician, things keep working as we'd expect:"
   ]
  },
  {
   "cell_type": "code",
   "execution_count": 3,
   "metadata": {},
   "outputs": [],
   "source": [
    "beatles.members.first().delete()\n",
    "assert beatles.members.all().count() == 3\n",
    "assert beatles.members.count() == 3"
   ]
  },
  {
   "cell_type": "markdown",
   "metadata": {},
   "source": [
    "So far, so good.  What if we try the same sort of thing with soft-deletable musicians?"
   ]
  },
  {
   "cell_type": "code",
   "execution_count": 4,
   "metadata": {},
   "outputs": [],
   "source": [
    "queen, created = SoftDeletableGroup.objects.get_or_create(name=\"Queen\")\n",
    "for name in (\n",
    "    \"Freddie Mercury\",\n",
    "    \"John Deacon\",\n",
    "    \"Roger Taylor\",\n",
    "    \"Brian May\"\n",
    "    ):\n",
    "    queen.members.get_or_create(name=name)\n",
    "\n",
    "assert queen.members.count() == 4\n",
    "assert queen.members.all().count() == 4\n",
    "\n",
    "queen.members.first().delete()\n",
    "assert queen.members.all().count() == 3"
   ]
  },
  {
   "cell_type": "markdown",
   "metadata": {},
   "source": [
    "Things seem OK.  But see:"
   ]
  },
  {
   "cell_type": "code",
   "execution_count": 5,
   "metadata": {},
   "outputs": [
    {
     "name": "stdout",
     "output_type": "stream",
     "text": [
      "The assertion failed.\n"
     ]
    }
   ],
   "source": [
    "try:\n",
    "    assert queen.members.count() == 3\n",
    "except AssertionError:\n",
    "    print(\"The assertion failed.\")"
   ]
  },
  {
   "cell_type": "markdown",
   "metadata": {},
   "source": [
    "We get `AssertionError`.  If we forget to use `.all()`, it seems that the results include soft-deleted band members.  Let's investigate."
   ]
  },
  {
   "cell_type": "code",
   "execution_count": 6,
   "metadata": {},
   "outputs": [
    {
     "data": {
      "text/plain": [
       "<SoftDeletableQuerySet [<SoftDeletableMusician: John Deacon>, <SoftDeletableMusician: Roger Taylor>, <SoftDeletableMusician: Brian May>]>"
      ]
     },
     "execution_count": 6,
     "metadata": {},
     "output_type": "execute_result"
    }
   ],
   "source": [
    "queen.members.filter(name__isnull=False)"
   ]
  },
  {
   "cell_type": "markdown",
   "metadata": {},
   "source": [
    "Weird: it seems that `all()` is somehow being used behind the scenes, or something.  I don't know.  I just expect `queen.members.count()` to equal 3.\n",
    "\n",
    "Things get weirder if we try annotations on queries:"
   ]
  },
  {
   "cell_type": "code",
   "execution_count": 7,
   "metadata": {},
   "outputs": [
    {
     "name": "stdout",
     "output_type": "stream",
     "text": [
      "<SoftDeletableQuerySet [<SoftDeletableGroup: Queen>]>\n"
     ]
    }
   ],
   "source": [
    "groups = SoftDeletableGroup.objects \\\n",
    "    .annotate(num_members=Count('members')) \\\n",
    "    .filter(num_members__gt=3)\n",
    "print(groups)"
   ]
  },
  {
   "cell_type": "markdown",
   "metadata": {},
   "source": [
    "The query should have returned an empty result set; we asked for `SoftDeletableGroup` objects having _more_ than 3 members.  So annotations behave weirdly (incorrectly?) as well."
   ]
  },
  {
   "cell_type": "code",
   "execution_count": 8,
   "metadata": {},
   "outputs": [
    {
     "data": {
      "text/plain": [
       "4"
      ]
     },
     "execution_count": 8,
     "metadata": {},
     "output_type": "execute_result"
    }
   ],
   "source": [
    "groups.first().num_members"
   ]
  },
  {
   "cell_type": "code",
   "execution_count": 9,
   "metadata": {},
   "outputs": [
    {
     "data": {
      "text/plain": [
       "4"
      ]
     },
     "execution_count": 9,
     "metadata": {},
     "output_type": "execute_result"
    }
   ],
   "source": [
    "groups.first().members.count()"
   ]
  },
  {
   "cell_type": "code",
   "execution_count": 10,
   "metadata": {},
   "outputs": [
    {
     "data": {
      "text/plain": [
       "3"
      ]
     },
     "execution_count": 10,
     "metadata": {},
     "output_type": "execute_result"
    }
   ],
   "source": [
    "groups.first().members.all().count()"
   ]
  },
  {
   "cell_type": "markdown",
   "metadata": {},
   "source": [
    "These things are really, really difficult to track down when writing migrations, queries, basically anything.  I've lost hours and hours to these under-the-hood behaviours.\n",
    "\n",
    "Personally speaking, I'd prefer to be explicit all the way through my codebase and write (say) `.available_objects` instead of `.objects` wherever I want only \"normal\" model instances.\n",
    "\n",
    "It's possible to make annotations work, but this doesn't rely on the magic behaviour inside `SoftDeletableModel`.  The query below would work fine if `is_removed` was just implemented as a straightforward `BooleanField`."
   ]
  },
  {
   "cell_type": "code",
   "execution_count": 11,
   "metadata": {},
   "outputs": [
    {
     "data": {
      "text/plain": [
       "3"
      ]
     },
     "execution_count": 11,
     "metadata": {},
     "output_type": "execute_result"
    }
   ],
   "source": [
    "SoftDeletableGroup.objects \\\n",
    "    .annotate(num_members=Count('members', filter=Q(members__is_removed=False))) \\\n",
    "    .first() \\\n",
    "    .num_members"
   ]
  },
  {
   "cell_type": "markdown",
   "metadata": {},
   "source": [
    "See for yourself how confusing things get.  Try running this notebook more than once against a database, and see what happens.  Clue: things break down at python cell `[4]`.  Can you understand why?  Would you have expected that before you saw it for yourself?"
   ]
  }
 ],
 "metadata": {
  "kernelspec": {
   "display_name": "Django Shell-Plus",
   "language": "python",
   "name": "django_extensions"
  },
  "language_info": {
   "codemirror_mode": {
    "name": "ipython",
    "version": 3
   },
   "file_extension": ".py",
   "mimetype": "text/x-python",
   "name": "python",
   "nbconvert_exporter": "python",
   "pygments_lexer": "ipython3",
   "version": "3.7.0"
  }
 },
 "nbformat": 4,
 "nbformat_minor": 2
}
